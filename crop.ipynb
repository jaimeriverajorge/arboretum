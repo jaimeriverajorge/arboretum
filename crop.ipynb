{
 "cells": [
  {
   "cell_type": "code",
   "execution_count": 28,
   "metadata": {},
   "outputs": [],
   "source": [
    "import cv2"
   ]
  },
  {
   "cell_type": "code",
   "execution_count": 29,
   "metadata": {},
   "outputs": [],
   "source": [
    "# imread(path, flag)\n",
    "# path: string representing path of image\n",
    "# flag: specificies way to read image - default value is IMREAD_COLOR\n",
    "image = cv2.imread(r\"C:\\Users\\Jorge\\Documents\\Arboretum Research\\arboretum-code\\images\\AASU_20810285_Fagaceae_Quercus_velutina.jpg\")"
   ]
  },
  {
   "cell_type": "code",
   "execution_count": 30,
   "metadata": {},
   "outputs": [
    {
     "name": "stdout",
     "output_type": "stream",
     "text": [
      "Length of image is:  1875\n",
      "Width of image is:  1250\n",
      "(1875, 1250, 3)\n"
     ]
    }
   ],
   "source": [
    "length = len(image)\n",
    "width = len(image[0])\n",
    "\n",
    "print(\"Length of image is: \", length)\n",
    "print(\"Width of image is: \", width)\n",
    "\n",
    "print(image.shape)"
   ]
  },
  {
   "cell_type": "code",
   "execution_count": 31,
   "metadata": {},
   "outputs": [
    {
     "data": {
      "text/plain": [
       "-1"
      ]
     },
     "execution_count": 31,
     "metadata": {},
     "output_type": "execute_result"
    }
   ],
   "source": [
    "#l = length / 10\n",
    "#w = width / 10\n",
    "\n",
    "y1 = 0\n",
    "x1 = 0\n",
    "y2 = 700\n",
    "x2 = 500\n",
    "\n",
    "# x and y coordinates switched ??\n",
    "cropped = image[y1:y2, x1:x2]\n",
    "\n",
    "#cv2.imshow used to display cropped image\n",
    "cv2.imshow(\"Cropped 2\", cropped)\n",
    "\n",
    "# cv2.waitKey() determines how long to show the image for\n",
    "# a parameter value of 0 will display the image indefinitely\n",
    "cv2.waitKey(0)"
   ]
  },
  {
   "cell_type": "code",
   "execution_count": 32,
   "metadata": {},
   "outputs": [
    {
     "name": "stdout",
     "output_type": "stream",
     "text": [
      "Image has been saved:  True\n"
     ]
    }
   ],
   "source": [
    "#use cv2.imwrite('/path/to/destination/image.png',image) to save image\n",
    "saved = cv2.imwrite(\"C:/Users/Jorge/Documents/Arboretum Research/arboretum-code/images/first_crop.jpg\", cropped)\n",
    "#previously got error with using backslashes \\, changed to / and it worked\n",
    "\n",
    "print(\"Image has been saved: \", saved)"
   ]
  },
  {
   "cell_type": "code",
   "execution_count": 27,
   "metadata": {},
   "outputs": [
    {
     "name": "stdout",
     "output_type": "stream",
     "text": [
      "Image cropped from x [   0 :  250] and y [   0 :  375]\n",
      "Image cropped from x [   0 :  250] and y [ 375 :  750]\n",
      "Image cropped from x [   0 :  250] and y [ 750 : 1125]\n",
      "Image cropped from x [   0 :  250] and y [1125 : 1500]\n",
      "Image cropped from x [   0 :  250] and y [1500 : 1875]\n",
      "Image cropped from x [ 250 :  500] and y [   0 :  375]\n",
      "Image cropped from x [ 250 :  500] and y [ 375 :  750]\n",
      "Image cropped from x [ 250 :  500] and y [ 750 : 1125]\n",
      "Image cropped from x [ 250 :  500] and y [1125 : 1500]\n",
      "Image cropped from x [ 250 :  500] and y [1500 : 1875]\n"
     ]
    }
   ],
   "source": [
    "#going to crop the image into 20 images\n",
    "# \"string - %s , float - %3.5f\" % ('hello world',3.144343)\n",
    "y1 = 0\n",
    "x1 = 0\n",
    "y2 = 0\n",
    "x2 = 0\n",
    "y_end = 1875\n",
    "x_end = 500\n",
    "x_step = 250\n",
    "y_step = 375\n",
    "\n",
    "path = \"C:/Users/Jorge/Documents/Arboretum Research/arboretum-code/images/cropped_images/crop_%d_%d.jpg\" % (x, y)\n",
    "#print(path)\n",
    "\n",
    "for x in range(0, x_end, x_step):\n",
    "    x2 += x_step\n",
    "    y2 = 0\n",
    "    for y in range(0, y_end, y_step):\n",
    "        y2 += y_step\n",
    "        path = \"C:/Users/Jorge/Documents/Arboretum Research/arboretum-code/images/cropped_images/crop_%d_%d.jpg\" % (x, y)\n",
    "        crop_many = image[y:y2, x:x2]\n",
    "        saved = cv2.imwrite(path, crop_many)\n",
    "        \n",
    "        \n",
    "        print(\"Image cropped from x [%4.0f : %4.0f] and y [%4.0f : %4.0f]\" % (x, x2, y, y2))\n",
    "    \n",
    "# x and y coordinates switched ??\n",
    "#cropped = image[y1:y2, x1:x2]"
   ]
  },
  {
   "cell_type": "code",
   "execution_count": null,
   "metadata": {},
   "outputs": [],
   "source": []
  }
 ],
 "metadata": {
  "kernelspec": {
   "display_name": "Python 3",
   "language": "python",
   "name": "python3"
  },
  "language_info": {
   "codemirror_mode": {
    "name": "ipython",
    "version": 3
   },
   "file_extension": ".py",
   "mimetype": "text/x-python",
   "name": "python",
   "nbconvert_exporter": "python",
   "pygments_lexer": "ipython3",
   "version": "3.8.5"
  }
 },
 "nbformat": 4,
 "nbformat_minor": 4
}
