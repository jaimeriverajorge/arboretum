{
 "cells": [
  {
   "cell_type": "code",
   "execution_count": 1,
   "metadata": {},
   "outputs": [],
   "source": [
    "import cv2"
   ]
  },
  {
   "cell_type": "code",
   "execution_count": 3,
   "metadata": {},
   "outputs": [],
   "source": [
    "# imread(path, flag)\n",
    "# path: string representing path of image\n",
    "# flag: specificies way to read image - default value is IMREAD_COLOR\n",
    "image = cv2.imread(r\"C:\\Users\\Jorge\\Documents\\Arboretum Research\\code\\images\\AASU_20810285_Fagaceae_Quercus_velutina.jpg\")"
   ]
  },
  {
   "cell_type": "code",
   "execution_count": 4,
   "metadata": {},
   "outputs": [
    {
     "name": "stdout",
     "output_type": "stream",
     "text": [
      "Length of image is:  1875\n",
      "Width of image is:  1250\n",
      "(1875, 1250, 3)\n"
     ]
    }
   ],
   "source": [
    "length = len(image)\n",
    "width = len(image[0])\n",
    "\n",
    "print(\"Length of image is: \", length)\n",
    "print(\"Width of image is: \", width)\n",
    "\n",
    "print(image.shape)"
   ]
  },
  {
   "cell_type": "code",
   "execution_count": 15,
   "metadata": {},
   "outputs": [
    {
     "data": {
      "text/plain": [
       "-1"
      ]
     },
     "execution_count": 15,
     "metadata": {},
     "output_type": "execute_result"
    }
   ],
   "source": [
    "#l = length / 10\n",
    "#w = width / 10\n",
    "\n",
    "y1 = 0\n",
    "x1 = 0\n",
    "y2 = 700\n",
    "x2 = 30\n",
    "\n",
    "# x and y coordinates switched ??\n",
    "cropped = image[y1:y2, x1:x2]\n",
    "\n",
    "#cv2.imshow used to display cropped image\n",
    "cv2.imshow(\"Cropped 2\", cropped)\n",
    "cv2.waitKey(0)"
   ]
  },
  {
   "cell_type": "code",
   "execution_count": null,
   "metadata": {},
   "outputs": [],
   "source": []
  }
 ],
 "metadata": {
  "kernelspec": {
   "display_name": "Python 3",
   "language": "python",
   "name": "python3"
  },
  "language_info": {
   "codemirror_mode": {
    "name": "ipython",
    "version": 3
   },
   "file_extension": ".py",
   "mimetype": "text/x-python",
   "name": "python",
   "nbconvert_exporter": "python",
   "pygments_lexer": "ipython3",
   "version": "3.8.5"
  }
 },
 "nbformat": 4,
 "nbformat_minor": 4
}
