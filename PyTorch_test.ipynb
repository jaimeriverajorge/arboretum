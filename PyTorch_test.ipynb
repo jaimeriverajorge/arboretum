{
 "cells": [
  {
   "cell_type": "markdown",
   "metadata": {},
   "source": [
    "# Building a NN"
   ]
  },
  {
   "cell_type": "markdown",
   "metadata": {},
   "source": [
    "This code was taken from the linkedin learning course \"PyTorch Essential Training\", found at:\n",
    "https://www.linkedin.com/learning/pytorch-essential-training-deep-learning/welcome?u=2176418\n",
    "\n",
    "Additional comments on the code were added by Jorge Jaime-Rivera for clarification."
   ]
  },
  {
   "cell_type": "code",
   "execution_count": 26,
   "metadata": {},
   "outputs": [],
   "source": [
    "import torch"
   ]
  },
  {
   "cell_type": "code",
   "execution_count": 3,
   "metadata": {},
   "outputs": [],
   "source": [
    "# setting seeds to try and ensure we have the same results - not guaranteed across PyTorch releases\n",
    "torch.manual_seed(0)\n",
    "\n",
    "#causes cuDNN to only use determinsitc convolution algorithms\n",
    "torch.backends.cudnn.deterministic = True\n",
    "\n",
    "# if true, causes cuDNN to benchmark multiple convolution algorithms and select the fastest\n",
    "torch.backends.cudnn.benchmark = False\n",
    "\n",
    "import numpy as np\n",
    "np.random.seed(0)"
   ]
  },
  {
   "cell_type": "code",
   "execution_count": 4,
   "metadata": {},
   "outputs": [],
   "source": [
    "from torchvision import datasets, transforms\n",
    "import torch.nn.functional as F\n",
    "from torch import nn"
   ]
  },
  {
   "cell_type": "code",
   "execution_count": 5,
   "metadata": {},
   "outputs": [
    {
     "name": "stdout",
     "output_type": "stream",
     "text": [
      "Downloading http://fashion-mnist.s3-website.eu-central-1.amazonaws.com/train-images-idx3-ubyte.gz\n",
      "Downloading http://fashion-mnist.s3-website.eu-central-1.amazonaws.com/train-images-idx3-ubyte.gz to C:\\Users\\Jorge/.pytorch/FMNIST/FashionMNIST\\raw\\train-images-idx3-ubyte.gz\n"
     ]
    },
    {
     "data": {
      "application/vnd.jupyter.widget-view+json": {
       "model_id": "2638916b942a4b11a1b23b1f56b3ed30",
       "version_major": 2,
       "version_minor": 0
      },
      "text/plain": [
       "HBox(children=(HTML(value=''), FloatProgress(value=0.0, max=26421880.0), HTML(value='')))"
      ]
     },
     "metadata": {},
     "output_type": "display_data"
    },
    {
     "name": "stdout",
     "output_type": "stream",
     "text": [
      "\n",
      "Extracting C:\\Users\\Jorge/.pytorch/FMNIST/FashionMNIST\\raw\\train-images-idx3-ubyte.gz to C:\\Users\\Jorge/.pytorch/FMNIST/FashionMNIST\\raw\n",
      "\n",
      "Downloading http://fashion-mnist.s3-website.eu-central-1.amazonaws.com/train-labels-idx1-ubyte.gz\n",
      "Downloading http://fashion-mnist.s3-website.eu-central-1.amazonaws.com/train-labels-idx1-ubyte.gz to C:\\Users\\Jorge/.pytorch/FMNIST/FashionMNIST\\raw\\train-labels-idx1-ubyte.gz\n"
     ]
    },
    {
     "data": {
      "application/vnd.jupyter.widget-view+json": {
       "model_id": "ec4566866f9b40518e83dc19caadac11",
       "version_major": 2,
       "version_minor": 0
      },
      "text/plain": [
       "HBox(children=(HTML(value=''), FloatProgress(value=0.0, max=29515.0), HTML(value='')))"
      ]
     },
     "metadata": {},
     "output_type": "display_data"
    },
    {
     "name": "stdout",
     "output_type": "stream",
     "text": [
      "\n",
      "Extracting C:\\Users\\Jorge/.pytorch/FMNIST/FashionMNIST\\raw\\train-labels-idx1-ubyte.gz to C:\\Users\\Jorge/.pytorch/FMNIST/FashionMNIST\\raw\n",
      "\n",
      "Downloading http://fashion-mnist.s3-website.eu-central-1.amazonaws.com/t10k-images-idx3-ubyte.gz\n",
      "Downloading http://fashion-mnist.s3-website.eu-central-1.amazonaws.com/t10k-images-idx3-ubyte.gz to C:\\Users\\Jorge/.pytorch/FMNIST/FashionMNIST\\raw\\t10k-images-idx3-ubyte.gz\n"
     ]
    },
    {
     "data": {
      "application/vnd.jupyter.widget-view+json": {
       "model_id": "9fd3af735a754b3ab654879fc2a393bf",
       "version_major": 2,
       "version_minor": 0
      },
      "text/plain": [
       "HBox(children=(HTML(value=''), FloatProgress(value=0.0, max=4422102.0), HTML(value='')))"
      ]
     },
     "metadata": {},
     "output_type": "display_data"
    },
    {
     "name": "stdout",
     "output_type": "stream",
     "text": [
      "\n",
      "Extracting C:\\Users\\Jorge/.pytorch/FMNIST/FashionMNIST\\raw\\t10k-images-idx3-ubyte.gz to C:\\Users\\Jorge/.pytorch/FMNIST/FashionMNIST\\raw\n",
      "\n",
      "Downloading http://fashion-mnist.s3-website.eu-central-1.amazonaws.com/t10k-labels-idx1-ubyte.gz\n",
      "Downloading http://fashion-mnist.s3-website.eu-central-1.amazonaws.com/t10k-labels-idx1-ubyte.gz to C:\\Users\\Jorge/.pytorch/FMNIST/FashionMNIST\\raw\\t10k-labels-idx1-ubyte.gz\n"
     ]
    },
    {
     "data": {
      "application/vnd.jupyter.widget-view+json": {
       "model_id": "0326dfa39a9f4e609bd2628440555533",
       "version_major": 2,
       "version_minor": 0
      },
      "text/plain": [
       "HBox(children=(HTML(value=''), FloatProgress(value=0.0, max=5148.0), HTML(value='')))"
      ]
     },
     "metadata": {},
     "output_type": "display_data"
    },
    {
     "name": "stdout",
     "output_type": "stream",
     "text": [
      "\n",
      "Extracting C:\\Users\\Jorge/.pytorch/FMNIST/FashionMNIST\\raw\\t10k-labels-idx1-ubyte.gz to C:\\Users\\Jorge/.pytorch/FMNIST/FashionMNIST\\raw\n",
      "\n",
      "Processing...\n",
      "Done!\n"
     ]
    },
    {
     "name": "stderr",
     "output_type": "stream",
     "text": [
      "C:\\Users\\Jorge\\anaconda3\\envs\\machineLearning\\lib\\site-packages\\torchvision\\datasets\\mnist.py:502: UserWarning: The given NumPy array is not writeable, and PyTorch does not support non-writeable tensors. This means you can write to the underlying (supposedly non-writeable) NumPy array using the tensor. You may want to copy the array to protect its data or make it writeable before converting it to a tensor. This type of warning will be suppressed for the rest of this program. (Triggered internally at  ..\\torch\\csrc\\utils\\tensor_numpy.cpp:143.)\n",
      "  return torch.from_numpy(parsed.astype(m[2], copy=False)).view(*s)\n"
     ]
    }
   ],
   "source": [
    "mean, std = (0.5,), (0.5,)\n",
    "\n",
    "# create a transform and normalize data, tells PyTorch what to do with the images when reading them\n",
    "transform = transforms.Compose([transforms.ToTensor(),\n",
    "                               transforms.Normalize(mean, std)])\n",
    "\n",
    "#download FMNIST training datset and load training data\n",
    "trainset = datasets.FashionMNIST('~/.pytorch/FMNIST/', download=True, train=True, transform=transform)\n",
    "# batch size is 64, we pass in the training set, and set shuffle to true to read the images in random order\n",
    "trainloader = torch.utils.data.DataLoader(trainset, batch_size=64, shuffle=True)\n",
    "\n",
    "# Download FMNIST test dataset and load the test data\n",
    "testset = datasets.FashionMNIST('~/.pytorch/FMNIST/', download=True, train=False, transform=transform)\n",
    "testloader = torch.utils.data.DataLoader(testset, batch_size=64, shuffle=False)"
   ]
  },
  {
   "cell_type": "code",
   "execution_count": 6,
   "metadata": {},
   "outputs": [],
   "source": [
    "# defining the NN model that we will make\n",
    "class FMNIST(nn.Module):\n",
    "    \n",
    "    #FMNIST uses superclass nn.Module - base class for all neural netowrk modules\n",
    "    def __init__(self):\n",
    "        \n",
    "        #calling superclass' init function\n",
    "        super().__init__()\n",
    "        \n",
    "        #declaring the layers\n",
    "        # fc1 = fully connected layer. has 784 inputs which go to 128 outputs\n",
    "        # each pixel is multiplied by weight w1 and added to bias b1, w1 and b1 are assigned random values to start\n",
    "        # nn.Linear automatically creates the weight and biases\n",
    "        self.fc1 = nn.Linear(784, 128)\n",
    "        self.fc2 = nn.Linear(128, 64)\n",
    "        \n",
    "        # want the last fc layer to connect to 10 output nodes, as there are 10 corresponding classes for an image\n",
    "        self.fc3 = nn.Linear(64, 10)\n",
    "    \n",
    "    # the forward function defines the model structure, components, and order of the different layers\n",
    "    # defines what happens to any input x that we feed into the network\n",
    "    def forward(self, x):\n",
    "        \n",
    "        #flatten the image so that it is 784 pixels long\n",
    "        x = x.view(x.shape[0], -1)\n",
    "        \n",
    "        #pass x through a fully connected layer, then through the ReLu activation function\n",
    "        # to introduce non-linearity into the model\n",
    "        # activation functions follow each layer in a deep learning network:\n",
    "        # layer -> activation function -> layer\n",
    "        x = F.relu(self.fc1(x))\n",
    "        x = F.relu(self.fc2(x))\n",
    "        x = self.fc3(x)\n",
    "        \n",
    "        # softmax function turns a vector of K real values into a vector of K real values that sum to 1\n",
    "        # so that they can be interpreted as probabilities\n",
    "        x = F.log_softmax(x, dim=1)\n",
    "        \n",
    "        return x\n",
    "    \n",
    "# creates an object of the class that was jsut created\n",
    "model = FMNIST()"
   ]
  },
  {
   "cell_type": "code",
   "execution_count": 7,
   "metadata": {},
   "outputs": [
    {
     "name": "stdout",
     "output_type": "stream",
     "text": [
      "Training Loss: 1.0338177299702853\n",
      "Training Loss: 0.5608134102910313\n",
      "Training Loss: 0.49143490676623164\n"
     ]
    }
   ],
   "source": [
    "from torch import optim\n",
    "\n",
    "# Negative likelihood loss: a loss function used in multi-classes classification tasks\n",
    "# determines the loss (difference between output and actual values), which will we want to minimize\n",
    "criterion = nn.NLLLoss()\n",
    "\n",
    "#lr is the learning rate: defines how much the weights will be changed in every\n",
    "#optimization step. it defines our step size when looking for the most optimal weights\n",
    "#optimizer determines how the network will be updated based on the loss function\n",
    "# implements variant of Stochastic Gradient Descent:\n",
    "# uses the loss value to update the weights with the following equation:\n",
    "# w = w - learning rate * (gradient of loss with respect to w)\n",
    "optimizer = optim.SGD(model.parameters(), lr= 0.01)\n",
    "\n",
    "# one iteration over all training data is called an epoch\n",
    "num_epochs = 3\n",
    "\n",
    "for i in range(num_epochs):\n",
    "    #cumulative loss from all epochs\n",
    "    cum_loss = 0\n",
    "    \n",
    "    #take images and labels from trainloader\n",
    "    for images, labels in trainloader:\n",
    "        # zero out gradients for each epoch, we only want to update the weight with the result of\n",
    "        # the optimizer for that batch\n",
    "        optimizer.zero_grad()\n",
    "        \n",
    "        # run batch through the neural network\n",
    "        output = model(images)\n",
    "        \n",
    "        #calculate the loss from NN\n",
    "        loss = criterion(output, labels)\n",
    "        \n",
    "        #carry out a backward pass to calculate the gradients\n",
    "        loss.backward()\n",
    "        \n",
    "        #update the weights on the NN\n",
    "        optimizer.step()\n",
    "        \n",
    "        #loss holds other things such as history and gradients\n",
    "        #loss.item() gets us the actual numeric value\n",
    "        cum_loss += loss.item()\n",
    "    print(f\"Training Loss: {cum_loss/len(trainloader)}\")"
   ]
  },
  {
   "cell_type": "code",
   "execution_count": 17,
   "metadata": {},
   "outputs": [],
   "source": [
    "%matplotlib inline\n",
    "import matplotlib.pyplot as plt\n",
    "\n",
    "# iter() calls the __iter__() method on the testloader which returns an iterator\n",
    "# next() gets the first iteration going\n",
    "images, lables = next(iter(testloader))\n",
    "\n",
    "test_image_id = 43\n",
    "\n",
    "# .view reshapes the image into a 1 x 784 tensor\n",
    "img = images[test_image_id].view(1, 784)\n",
    "\n",
    "# no gradient because we are testing the prediction of our model\n",
    "with torch.no_grad():\n",
    "    #gets the log prediction score of the model, with the image passed into it\n",
    "    logps = model(img)"
   ]
  },
  {
   "cell_type": "code",
   "execution_count": 20,
   "metadata": {},
   "outputs": [
    {
     "data": {
      "text/plain": [
       "<BarContainer object of 10 artists>"
      ]
     },
     "execution_count": 20,
     "metadata": {},
     "output_type": "execute_result"
    },
    {
     "data": {
      "image/png": "[encoded data removed]",
      "text/plain": [
       "<Figure size 432x288 with 1 Axes>"
      ]
     },
     "metadata": {
      "needs_background": "light"
     },
     "output_type": "display_data"
    }
   ],
   "source": [
    "# take the exponent of logps to remove the log\n",
    "ps = torch.exp(logps)\n",
    "# convert the score into a numpy value\n",
    "nps = ps.numpy()[0]\n",
    "\n",
    "#labels of dataset\n",
    "FMNIST_labels = ['T-shirt/top', 'Trouser', 'Pullover','Dress','Coat','Sandal','Shirt','Sport Shoes','Bag','Ankle Boot']\n",
    "plt.xticks(np.arange(10),labels=FMNIST_labels,rotation='vertical')\n",
    "plt.bar(np.arange(10), nps)"
   ]
  },
  {
   "cell_type": "code",
   "execution_count": 25,
   "metadata": {},
   "outputs": [
    {
     "data": {
      "text/plain": [
       "<matplotlib.image.AxesImage at 0x2b9e3e274f0>"
      ]
     },
     "execution_count": 25,
     "metadata": {},
     "output_type": "execute_result"
    },
    {
     "data": {
      "image/png": "[encoded data removed]",
      "text/plain": [
       "<Figure size 432x288 with 1 Axes>"
      ]
     },
     "metadata": {
      "needs_background": "light"
     },
     "output_type": "display_data"
    }
   ],
   "source": [
    "# use normal values (std and mean) for each of the coulour channels across the network\n",
    "# de-norm does the reverse when we want the actual values\n",
    "def denormalize(tensor):\n",
    "    tensor = tensor*0.5 + 0.5\n",
    "    return tensor\n",
    "\n",
    "img = img.view(28, -1)\n",
    "img = denormalize(img)\n",
    "plt.imshow(img, cmap='gray')"
   ]
  },
  {
   "cell_type": "code",
   "execution_count": null,
   "metadata": {},
   "outputs": [],
   "source": []
  }
 ],
 "metadata": {
  "kernelspec": {
   "display_name": "Python 3",
   "language": "python",
   "name": "python3"
  },
  "language_info": {
   "codemirror_mode": {
    "name": "ipython",
    "version": 3
   },
   "file_extension": ".py",
   "mimetype": "text/x-python",
   "name": "python",
   "nbconvert_exporter": "python",
   "pygments_lexer": "ipython3",
   "version": "3.8.5"
  }
 },
 "nbformat": 4,
 "nbformat_minor": 4
}
